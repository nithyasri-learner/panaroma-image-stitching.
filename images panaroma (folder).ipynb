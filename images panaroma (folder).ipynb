{
 "cells": [
  {
   "cell_type": "code",
   "execution_count": null,
   "metadata": {},
   "outputs": [
    {
     "name": "stdout",
     "output_type": "stream",
     "text": [
      "['1', '2']\n",
      "C://Users//user//Desktop//panaroma//1\n",
      "total number of images detected 6 \n"
     ]
    }
   ],
   "source": [
    "#IMPORT OPENCV LIBRARY\n",
    "import cv2\n",
    "#GIVE PATH NAME OF THE MAIN FOLDER\n",
    "mainfolder = (\"C://Users//user//Desktop//panaroma\")\n",
    "#GET LIST OF THE MAIN FOLDER AND PRINT IT\n",
    "myfolders = os.listdir(mainfolder)\n",
    "print(myfolders)\n",
    "\n",
    "#ITERATE TO EACH OF THE FOLDER\n",
    "for folder in myfolders:\n",
    "    #GET THE NAME OF THE FOLDER ALONG WITH THE MAIN FOLDER\n",
    "    path = mainfolder +'//'+ folder\n",
    "    print(path)\n",
    "    #CREATE A LIST\n",
    "    images = []\n",
    "    my_list = os.listdir(path)\n",
    "    print(f'total number of images detected {len(my_list)} ')\n",
    "    #ITERATE TO EACH OF THE IMAGES INSIDE THE FOLDER\n",
    "    for imagN in my_list:\n",
    "        #RESIZE THE IMAGES\n",
    "        dim = (300,600)\n",
    "        output = cv2.imread(f'{path}//{imagN}')\n",
    "        output = cv2.resize(output,dim) \n",
    "        images.append(output)GET THE \n",
    "    #STITCH THE IMAGES TO GET THE DESIRED PANAROMA IMAGE    \n",
    "    stitcher = cv2.Stitcher.create()\n",
    "    result,pano = stitcher.stitch(images)\n",
    "    #CHECK WHETHER THE PANAROMA IS CREATED OR NOT..AND DISPLAY THE RESULT\n",
    "    if result==cv2.STITCHER_OK:\n",
    "        cv2.imshow('panaroma',pano)\n",
    "        cv2.waitKey(0)\n",
    "        cv2.destroyAllWindows()\n",
    "    else:\n",
    "        #THERE IS NO KEYPOINTS ARE DETECTED SO PANAROMA CAN'T BE GENERATED\n",
    "        print(\"error detected\")\n",
    "        \n",
    "        "
   ]
  },
  {
   "cell_type": "code",
   "execution_count": null,
   "metadata": {},
   "outputs": [],
   "source": []
  }
 ],
 "metadata": {
  "kernelspec": {
   "display_name": "Python 3",
   "language": "python",
   "name": "python3"
  },
  "language_info": {
   "codemirror_mode": {
    "name": "ipython",
    "version": 3
   },
   "file_extension": ".py",
   "mimetype": "text/x-python",
   "name": "python",
   "nbconvert_exporter": "python",
   "pygments_lexer": "ipython3",
   "version": "3.7.6"
  }
 },
 "nbformat": 4,
 "nbformat_minor": 4
}
