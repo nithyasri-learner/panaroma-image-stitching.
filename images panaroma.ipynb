{
 "cells": [
  {
   "cell_type": "code",
   "execution_count": 3,
   "metadata": {},
   "outputs": [],
   "source": [
    "import cv2\n",
    "import numpy as np\n",
    "dim = (300,700)\n",
    "img1 = cv2.imread(\"C://Users//user//Desktop//panaroma//1//nature1.jpg\",cv2.IMREAD_COLOR)\n",
    "img1 = cv2.resize(img1, dim, interpolation  = cv2.INTER_AREA)\n",
    "img2 = cv2.imread(\"C://Users//user//Desktop//panaroma//1//nature2.jpg\",cv2.IMREAD_COLOR)\n",
    "img2 = cv2.resize(img2, dim, interpolation  = cv2.INTER_AREA)\n",
    "img3 = cv2.imread(\"C://Users//user//Desktop//panaroma//1//nature3.jpg\",cv2.IMREAD_COLOR)\n",
    "img3 = cv2.resize(img3, dim, interpolation  = cv2.INTER_AREA)\n",
    "img4 = cv2.imread(\"C://Users//user//Desktop//panaroma//1//nature4.jpg\",cv2.IMREAD_COLOR)\n",
    "img4 = cv2.resize(img4, dim, interpolation  = cv2.INTER_AREA)\n",
    "img5 = cv2.imread(\"C://Users//user//Desktop//panaroma//1//nature5.jpg\",cv2.IMREAD_COLOR)\n",
    "img5 = cv2.resize(img5, dim, interpolation  = cv2.INTER_AREA)\n",
    "img6 = cv2.imread(\"C://Users//user//Desktop//panaroma//1//nature6.jpg\",cv2.IMREAD_COLOR)\n",
    "img6 = cv2.resize(img6, dim, interpolation  = cv2.INTER_AREA)\n",
    "images = []\n",
    "images.append(img1)\n",
    "images.append(img2)\n",
    "images.append(img3)\n",
    "images.append(img4)\n",
    "images.append(img5)\n",
    "images.append(img6)\n",
    "\n",
    "stitcher = cv2.Stitcher.create()\n",
    "ret,pano = stitcher.stitch(images)\n",
    "\n",
    "if ret==cv2.STITCHER_OK:\n",
    "    cv2.imshow('panaroma',pano)\n",
    "    cv2.waitKey(0)\n",
    "    cv2.destroyAllWindows()\n",
    "else:\n",
    "    print(\"error detected\")\n",
    "\n",
    "\n",
    "\n",
    "\n",
    "\n",
    "\n",
    "\n"
   ]
  },
  {
   "cell_type": "code",
   "execution_count": null,
   "metadata": {},
   "outputs": [],
   "source": []
  }
 ],
 "metadata": {
  "kernelspec": {
   "display_name": "Python 3",
   "language": "python",
   "name": "python3"
  },
  "language_info": {
   "codemirror_mode": {
    "name": "ipython",
    "version": 3
   },
   "file_extension": ".py",
   "mimetype": "text/x-python",
   "name": "python",
   "nbconvert_exporter": "python",
   "pygments_lexer": "ipython3",
   "version": "3.7.6"
  }
 },
 "nbformat": 4,
 "nbformat_minor": 4
}
